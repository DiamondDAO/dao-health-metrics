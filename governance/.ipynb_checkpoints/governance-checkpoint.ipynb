{
 "cells": [
  {
   "cell_type": "code",
   "execution_count": 1,
   "id": "4be03141-8913-4b94-af1c-790c79c2713d",
   "metadata": {},
   "outputs": [],
   "source": [
    "from datetime import datetime, timedelta\n",
    "import psycopg2 as ps2\n",
    "import os\n",
    "import inspect\n",
    "import pprint\n",
    "import json\n",
    "import functools\n",
    "\n",
    "pp = pprint.PrettyPrinter(indent=4, depth=2)\n",
    "\n",
    "# connect to database\n",
    "database_dict = {\n",
    "    \"database\": os.environ.get(\"POSTGRES_DB\"),\n",
    "    \"user\": os.environ.get(\"POSTGRES_USERNAME\"),\n",
    "    \"password\": os.environ.get(\"POSTGRES_PASSWORD\"),\n",
    "    \"host\": os.environ.get(\"POSTGRES_WRITER\"),\n",
    "    \"port\": os.environ.get(\"POSTGRES_PORT\"),\n",
    "}\n",
    "engine = ps2.connect(**database_dict)\n",
    "cur = engine.cursor()"
   ]
  },
  {
   "cell_type": "code",
   "execution_count": 2,
   "id": "bfff66a1-94e0-44c9-80e5-3633743c8119",
   "metadata": {},
   "outputs": [],
   "source": [
    "# get all dao ids\n",
    "all_dao_id_query = inspect.cleandoc(f'''\n",
    "    SELECT\n",
    "        d.id\n",
    "    FROM\n",
    "        daohaus.dao d'''\n",
    ")\n",
    "\n",
    "cur.execute(all_dao_id_query)\n",
    "records = cur.fetchall()\n",
    "\n",
    "all_dao_ids = []\n",
    "for x in records:\n",
    "    all_dao_ids.append(x[0])"
   ]
  },
  {
   "cell_type": "code",
   "execution_count": 3,
   "id": "91dd5387-44ce-4d00-b3de-85d337c1693e",
   "metadata": {},
   "outputs": [],
   "source": [
    "# define days since september 1 and november 30\n",
    "start = 140\n",
    "end = 50\n",
    "\n",
    "# get all proposals over given date range\n",
    "all_proposals_query = inspect.cleandoc(f'''\n",
    "    SELECT\n",
    "        p.dao_id,\n",
    "        p.\"didPass\"\n",
    "    FROM\n",
    "        daohaus.proposal p\n",
    "    WHERE\n",
    "        CURRENT_DATE :: DATE - p.created_at :: DATE <= {start}\n",
    "        AND CURRENT_DATE :: DATE - p.created_at :: DATE >= {end}'''\n",
    ")\n",
    "\n",
    "cur.execute(all_proposals_query)\n",
    "records = cur.fetchall()"
   ]
  },
  {
   "cell_type": "code",
   "execution_count": 4,
   "id": "0e9b7b90-fe9b-4fef-b4d7-89f748d87e96",
   "metadata": {},
   "outputs": [],
   "source": [
    "proposal_count_dict = {}\n",
    "\n",
    "for x in records:\n",
    "    if x[0] not in proposal_count_dict.keys():\n",
    "        proposal_count_dict[x[0]] = {\"passed\": 0, \"total\": 0}\n",
    "    proposal_count_dict[x[0]][\"total\"] += 1\n",
    "    if x[1]:\n",
    "        proposal_count_dict[x[0]]['passed'] += 1\n",
    "        \n",
    "for dao_id in proposal_count_dict.keys():\n",
    "    pass_percentage = proposal_count_dict[dao_id]['passed'] * 100 / proposal_count_dict[dao_id]['total']\n",
    "    proposal_count_dict[dao_id]['pass_%'] = pass_percentage\n",
    "    "
   ]
  },
  {
   "cell_type": "code",
   "execution_count": 5,
   "id": "8d0d8d14-b87b-45f7-8778-29a22bf7f10f",
   "metadata": {},
   "outputs": [
    {
     "name": "stdout",
     "output_type": "stream",
     "text": [
      "Total DAO Count: 1617\n",
      "DAOs with >0 Proposals: 342\n"
     ]
    }
   ],
   "source": [
    "print(f\"Total DAO Count: {len(all_dao_ids)}\")\n",
    "print(f\"DAOs with >0 Proposals: {len(proposal_count_dict.keys())}\")"
   ]
  },
  {
   "cell_type": "code",
   "execution_count": 6,
   "id": "7f74a9cd-e93a-4f51-86c1-dda5f8cb9fa4",
   "metadata": {},
   "outputs": [],
   "source": [
    "# save proposal count information to file\n",
    "now = datetime.now()\n",
    "start = now - timedelta(days=start)\n",
    "end = now - timedelta(days=end)\n",
    "with open(f\"proposals-{start.strftime('%m-%d-%Y')}-{end.strftime('%m-%d-%Y')}.json\", 'w') as file:\n",
    "    json.dump(proposal_count_dict, file)\n",
    "\n",
    "# print proposal information\n",
    "# temp_list = []\n",
    "# print(\"PROPOSALS\")\n",
    "# print(\"---------------------------\")\n",
    "# for key, value in proposal_count_dict.items():\n",
    "#     temp_list.append((key, value['total'], value['pass_%']))\n",
    "\n",
    "# def compare(item1, item2):\n",
    "#     return item2[1] - item1[1]\n",
    "\n",
    "# for x in sorted(temp_list, key=functools.cmp_to_key(compare)):\n",
    "#     print(f\"DAO: {x[0]}, total: {x[1]}, pass %: {'{:.2f}'.format(x[2])}\")"
   ]
  },
  {
   "cell_type": "code",
   "execution_count": 83,
   "id": "1d7fd561-2e69-44ff-aedb-6cc627ba36ca",
   "metadata": {},
   "outputs": [],
   "source": [
    "# get member count for each DAO\n",
    "\n",
    "start = 140\n",
    "end = 50\n",
    "\n",
    "member_count_query = inspect.cleandoc(f'''\n",
    "    SELECT\n",
    "        m.dao_id,\n",
    "        count(m.id)\n",
    "    FROM\n",
    "        daohaus.member m\n",
    "    WHERE\n",
    "        not m.kicked AND\n",
    "        CURRENT_DATE :: DATE - m.created_at :: DATE >= {end}\n",
    "    GROUP BY \n",
    "        m.dao_id''')\n",
    "\n",
    "cur.execute(member_count_query)\n",
    "records = cur.fetchall()\n",
    "\n",
    "member_count_dict = {}\n",
    "for x in all_dao_ids:\n",
    "    member_count_dict[x] = {\"total\": 0, \"applicant\": set(), \"voter\": set(), \"sponsor\": set(), \"processor\": set()}\n",
    "    \n",
    "for x in records:\n",
    "    member_count_dict[x[0]]['total'] += x[1]"
   ]
  },
  {
   "cell_type": "code",
   "execution_count": null,
   "id": "44a7eafc-c2f9-4ef6-a6ae-10bac9313018",
   "metadata": {},
   "outputs": [],
   "source": [
    "all_proposals_query = inspect.cleandoc(f'''\n",
    "    SELECT\n",
    "        p.id,\n",
    "        p.dao_id,\n",
    "        p.applicant,\n",
    "        p.sponsor,\n",
    "        p.processor\n",
    "    FROM\n",
    "        daohaus.proposal p\n",
    "    WHERE\n",
    "        CURRENT_DATE :: DATE - p.created_at :: DATE <= {start}\n",
    "        AND CURRENT_DATE :: DATE - p.created_at :: DATE >= {end}''')\n",
    "\n",
    "cur.execute(all_proposals_query)\n",
    "records = cur.fetchall()\n",
    "\n",
    "for x in records:\n",
    "    dao_id = x[1]\n",
    "    if x[2] and x[2] != \"0x0000000000000000000000000000000000000000\":\n",
    "        member_count_dict[dao_id]['applicant'].add(x[2])\n",
    "    if x[3] and x[3] != \"0x0000000000000000000000000000000000000000\":\n",
    "        member_count_dict[dao_id]['sponsor'].add(x[3])\n",
    "    if x[4] and x[4] != \"0x0000000000000000000000000000000000000000\":\n",
    "        member_count_dict[dao_id]['processor'].add(x[4])\n",
    "        \n",
    "    current_proposal_votes_query = inspect.cleandoc(f'''\n",
    "        SELECT\n",
    "            v.id,\n",
    "            v.member_id\n",
    "        FROM\n",
    "            daohaus.proposal_votes v\n",
    "        WHERE\n",
    "            v.proposal_id = {x[0]}''')\n",
    "    \n",
    "    cur.execute(current_proposal_votes_query)\n",
    "    current_votes = cur.fetchall()\n",
    "    for vote in current_votes:\n",
    "        if vote[1]:\n",
    "            member_count_dict[dao_id]['voter'].add(vote[1])"
   ]
  },
  {
   "cell_type": "code",
   "execution_count": 93,
   "id": "5980c9f8-afb3-486a-bfd0-18cbebca3115",
   "metadata": {},
   "outputs": [],
   "source": [
    "member_dict = {}\n",
    "for key, value in member_count_dict.items():\n",
    "    member_dict[key] = {}\n",
    "    member_dict[key]['total'] = member_count_dict[key]['total']\n",
    "    member_dict[key]['voters'] = len(member_count_dict[key]['voter'])\n",
    "    member_dict[key]['sponsors'] = len(member_count_dict[key]['sponsor'])\n",
    "    member_dict[key]['processors'] = len(member_count_dict[key]['processor'])\n",
    "    member_dict[key]['applicants'] = len(member_count_dict[key]['applicant'])\n",
    "    combined_set = member_count_dict[key]['processor'] | member_count_dict[key]['sponsor'] | member_count_dict[key]['voter'] | member_count_dict[key]['applicant']\n",
    "    member_dict[key]['unique_sum'] = len(combined_set)"
   ]
  },
  {
   "cell_type": "code",
   "execution_count": 95,
   "id": "87486a69-96c4-46a6-90c1-050a2027f762",
   "metadata": {},
   "outputs": [],
   "source": [
    "# save member count information to file\n",
    "now = datetime.now()\n",
    "start = now - timedelta(days=start)\n",
    "end = now - timedelta(days=end)\n",
    "with open(f\"members-{start.strftime('%m-%d-%Y')}-{end.strftime('%m-%d-%Y')}.json\", 'w') as file:\n",
    "    json.dump(member_dict, file)"
   ]
  },
  {
   "cell_type": "code",
   "execution_count": null,
   "id": "cb10c404-ada0-4df6-8eec-671d671e0678",
   "metadata": {},
   "outputs": [],
   "source": []
  }
 ],
 "metadata": {
  "kernelspec": {
   "display_name": "Python 3 (ipykernel)",
   "language": "python",
   "name": "python3"
  },
  "language_info": {
   "codemirror_mode": {
    "name": "ipython",
    "version": 3
   },
   "file_extension": ".py",
   "mimetype": "text/x-python",
   "name": "python",
   "nbconvert_exporter": "python",
   "pygments_lexer": "ipython3",
   "version": "3.9.7"
  }
 },
 "nbformat": 4,
 "nbformat_minor": 5
}
